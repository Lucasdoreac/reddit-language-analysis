{
 "cells": [
  {
   "cell_type": "markdown",
   "metadata": {},
   "source": [
    "# Análise Exploratória dos Dados do Reddit\n",
    "\n",
    "Este notebook realiza uma análise inicial dos dados coletados do Reddit, focando nos padrões de uso de termos específicos."
   ]
  },
  {
   "cell_type": "code",
   "execution_count": null,
   "metadata": {},
   "source": [
    "import pandas as pd\n",
    "import numpy as np\n",
    "import matplotlib.pyplot as plt\n",
    "import seaborn as sns\n",
    "from pathlib import Path\n",
    "import json\n",
    "\n",
    "%matplotlib inline"
   ]
  },
  {
   "cell_type": "markdown",
   "metadata": {},
   "source": [
    "## Carregando os Dados"
   ]
  },
  {
   "cell_type": "code",
   "execution_count": null,
   "metadata": {},
   "source": [
    "# Função para carregar dados mais recentes\n",
    "def load_latest_data(data_dir='../data'):\n",
    "    data_dir = Path(data_dir)\n",
    "    \n",
    "    # Encontrar arquivos mais recentes\n",
    "    submissions_files = list(data_dir.glob('submissions_*.csv'))\n",
    "    comments_files = list(data_dir.glob('comments_*.csv'))\n",
    "    \n",
    "    if not submissions_files or not comments_files:\n",
    "        raise FileNotFoundError('Arquivos de dados não encontrados')\n",
    "    \n",
    "    latest_submissions = max(submissions_files, key=lambda x: x.stat().st_mtime)\n",
    "    latest_comments = max(comments_files, key=lambda x: x.stat().st_mtime)\n",
    "    \n",
    "    # Carregar dados\n",
    "    submissions_df = pd.read_csv(latest_submissions)\n",
    "    comments_df = pd.read_csv(latest_comments)\n",
    "    \n",
    "    return submissions_df, comments_df\n",
    "\n",
    "# Carregar dados\n",
    "submissions_df, comments_df = load_latest_data()"
   ]
  },
  {
   "cell_type": "markdown",
   "metadata": {},
   "source": [
    "## Análise Inicial\n",
    "\n",
    "Vamos examinar algumas estatísticas básicas sobre os dados coletados."
   ]
  },
  {
   "cell_type": "code",
   "execution_count": null,
   "metadata": {},
   "source": [
    "# Estatísticas gerais\n",
    "print(f\"Total de submissions: {len(submissions_df)}\")\n",
    "print(f\"Total de comentários: {len(comments_df)}\")\n",
    "\n",
    "# Distribuição por subreddit\n",
    "subreddit_stats = submissions_df['subreddit'].value_counts().head(10)\n",
    "plt.figure(figsize=(12, 6))\n",
    "subreddit_stats.plot(kind='bar')\n",
    "plt.title('Top 10 Subreddits por Número de Posts')\n",
    "plt.xticks(rotation=45)\n",
    "plt.tight_layout()\n",
    "plt.show()"
   ]
  },
  {
   "cell_type": "markdown",
   "metadata": {},
   "source": [
    "## Análise Temporal\n",
    "\n",
    "Vamos examinar como o uso dos termos varia ao longo do tempo."
   ]
  },
  {
   "cell_type": "code",
   "execution_count": null,
   "metadata": {},
   "source": [
    "# Converter timestamps\n",
    "submissions_df['created_utc'] = pd.to_datetime(submissions_df['created_utc'])\n",
    "\n",
    "# Agrupar por mês e termo\n",
    "monthly_usage = submissions_df.groupby([pd.Grouper(key='created_utc', freq='M'), 'term']).size().unstack()\n",
    "\n",
    "# Plotar tendências temporais\n",
    "plt.figure(figsize=(15, 7))\n",
    "monthly_usage.plot()\n",
    "plt.title('Uso dos Termos ao Longo do Tempo')\n",
    "plt.xlabel('Data')\n",
    "plt.ylabel('Número de Posts')\n",
    "plt.legend(title='Termo')\n",
    "plt.tight_layout()\n",
    "plt.show()"
   ]
  }
 ],
 "metadata": {
  "kernelspec": {
   "display_name": "Python 3",
   "language": "python",
   "name": "python3"
  },
  "language_info": {
   "codemirror_mode": {
    "name": "ipython",
    "version": 3
   },
   "file_extension": ".py",
   "mimetype": "text/x-python",
   "name": "python",
   "nbconvert_exporter": "python",
   "pygments_lexer": "ipython3",
   "version": "3.8.0"
  }
 },
 "nbformat": 4,
 "nbformat_minor": 4
}